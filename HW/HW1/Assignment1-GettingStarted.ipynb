{
 "cells": [
  {
   "cell_type": "markdown",
   "metadata": {
    "id": "rGsoUCPYZZ4W"
   },
   "source": [
    "## Assignment 1: Exploring and Visualizing Data\n",
    "NOTE : PLEASE DO NOT POST THE CODE OR YOUR SOLUTIONS ON THE WEB/GIT except CANVAS FOR GRADING\n"
   ]
  },
  {
   "cell_type": "markdown",
   "metadata": {
    "id": "feZjUfADZZ4b"
   },
   "source": [
    "This assignment focuses on the EDA process where you load, explore, visualize data and present your findings. \n",
    "\n",
    "Problem Statement : Choose a variable with meaningful magnitude and examine the effects of two transformations (scaling methods) on that variable.\n",
    "\n",
    "Background Materials/Data : \n",
    "COVID 19 is an ongoing threat.  Data for the outbreak are available here:  \n",
    "https://www.ecdc.europa.eu/en/publications-data/download-todays-data-geographic-distribution-covid-19-cases-worldwide \n",
    "\n",
    "Using this data, you are to conduct exploratory data analysis.  Provide appropriate descriptive statistics  / visualizations to help understand the spread of the disease (incidence) as well as its fatality rate.  You should also engage in feature creation and variable transformation.  At a bare minimum, feature creation should include generating rates per X in the population (i.e., rates per million).  Investigate time series as well as univariate and bivariate distribution graphs. \n",
    "\n",
    "Select one of variable and perform both min-max and standard scaling in Python.  \n",
    "reference:  https://scikit-learn.org/stable/auto_examples/preprocessing/plot_all_scaling.html#sphx-glr-auto-examples-preprocessing-plot-all-scaling-py \n",
    "\n",
    "Some methods we will learn in this course  (trees and random forests) are unaffected by monotonic transformations of the explanatory variables. Others (SVMs and neural networks) are very much affected by scaling and usually perform better when all explanatory variables have the same scale. It is often best to use scaling methods that preserve the shape of the distribution. But if there are extreme outliers or heavily skewed distributions, then log or normalizing transformations may be warranted.\n",
    "\n",
    "Questions & Assumptions to Senior Managemment\n",
    "- What are the management and analytical questions associated with this problem?\n",
    "- What are some of the assumptions if any ?\n",
    "\n",
    "Comment often and in detail, highlighting major sections of code, describing the thinking behind the programming methods being employed.\n",
    "\n",
    "Python Programming\n",
    "All programming will be done in Python.\n",
    "\n",
    "-- Grading Guidelines (100 points)\n",
    "1) Data preparation (20 points)\n",
    "2) Data exploration (20 points)\n",
    "3) Data visualization (20 points)\n",
    "4) Data scaling and comparisons (20 points)\n",
    "5) Insights from analysis (20 points)\n",
    "\n",
    "Deliverables and File Formats\n",
    "you can use this notebook to update comments or Provide a double-spaced paper with a two-page maximum for the text. The paper should include all a discussion of all graded elements but focus particularly on insights. Include your Python code and output as an appendix.  Upload the notebook and/or as a single .pdf file.\n",
    "\n",
    "Formatting Python Code\n",
    "Refer to Google’s Python Style Guide (https://google.github.iostyleguide/pyguide.html) for ideas about formatting Python code:\n",
    "\n",
    "\n",
    "NOTE : \n",
    "- Below is the starter code and please feel free to update/edit/change to provide your thoughts/solutions to the problem. \n",
    "- Comment often and in detail, highlighting major sections of code, describing the thinking behind the programming methods being employed."
   ]
  },
  {
   "cell_type": "markdown",
   "metadata": {
    "id": "4_RRzhFOZZ4c"
   },
   "source": [
    "##### Data Dictionary COVID-19 "
   ]
  },
  {
   "cell_type": "markdown",
   "metadata": {
    "id": "piOcEjz5ZZ4c"
   },
   "source": [
    "The dataset data frame has 32771 rows and 10 columns.<br>\n",
    "This data frame contains the following columns:<br>\n",
    "<b>Date</b><br>\n",
    "Formatted  datetime64[ns]<br>\n",
    "<b>Day</b><br>\n",
    "Calendar day, dtype int64<br>\n",
    "<b>Month</b><br>\n",
    "Calendar month, dtype int64<br>\n",
    "<b>Year</b><br>\n",
    "Calendar year, dtype int64<br>\n",
    "<b>Cases</b><br>\n",
    "Number of Cases Per Day, dtype int64<br>\n",
    "<b>Deaths</b><br>\n",
    "Number of Deaths, dtype int64<br>\n",
    "<b>Country </b><br>\n",
    "Country Name, dtype object<br>\n",
    "<b>Population</b><br>\n",
    "Country Population<br>\n",
    "<b>Continent</b><br>\n",
    "Continent continuous expanses of land (Africa, Antarctica, Asia, Australia, Europe, North America, South America)<br>\n",
    "<b>CumulativeNumberPer100KCases </b><br>\n",
    "Cumulative Number For 14 Days of COVID-19 Cases per 100000<br>\n",
    "<b>Sources:</b><br>"
   ]
  },
  {
   "cell_type": "code",
   "execution_count": 11,
   "metadata": {
    "executionInfo": {
     "elapsed": 944,
     "status": "ok",
     "timestamp": 1610468988925,
     "user": {
      "displayName": "Shreenidhi Bharadwaj",
      "photoUrl": "",
      "userId": "11178425699106318599"
     },
     "user_tz": 480
    },
    "id": "H1tDJelFZZ4d"
   },
   "outputs": [],
   "source": [
    "# Ignore warnings\n",
    "import warnings\n",
    "warnings.filterwarnings(\"ignore\", category=Warning)"
   ]
  },
  {
   "cell_type": "code",
   "execution_count": null,
   "metadata": {
    "colab": {
     "base_uri": "https://localhost:8080/"
    },
    "executionInfo": {
     "elapsed": 6804,
     "status": "ok",
     "timestamp": 1610468427160,
     "user": {
      "displayName": "Shreenidhi Bharadwaj",
      "photoUrl": "",
      "userId": "11178425699106318599"
     },
     "user_tz": 480
    },
    "id": "ynfxt3UXZZ4d",
    "outputId": "644db69a-816b-4de2-de46-f9f888d9a917"
   },
   "outputs": [
    {
     "name": "stdout",
     "output_type": "stream",
     "text": [
      "Collecting pip\n",
      "\u001b[?25l  Downloading https://files.pythonhosted.org/packages/54/eb/4a3642e971f404d69d4f6fa3885559d67562801b99d7592487f1ecc4e017/pip-20.3.3-py2.py3-none-any.whl (1.5MB)\n",
      "\r",
      "\u001b[K     |▏                               | 10kB 14.8MB/s eta 0:00:01\r",
      "\u001b[K     |▍                               | 20kB 19.7MB/s eta 0:00:01\r",
      "\u001b[K     |▋                               | 30kB 15.8MB/s eta 0:00:01\r",
      "\u001b[K     |▉                               | 40kB 11.0MB/s eta 0:00:01\r",
      "\u001b[K     |█                               | 51kB 8.3MB/s eta 0:00:01\r",
      "\u001b[K     |█▎                              | 61kB 8.9MB/s eta 0:00:01\r",
      "\u001b[K     |█▌                              | 71kB 8.5MB/s eta 0:00:01\r",
      "\u001b[K     |█▊                              | 81kB 9.3MB/s eta 0:00:01\r",
      "\u001b[K     |██                              | 92kB 8.9MB/s eta 0:00:01\r",
      "\u001b[K     |██▏                             | 102kB 9.6MB/s eta 0:00:01\r",
      "\u001b[K     |██▍                             | 112kB 9.6MB/s eta 0:00:01\r",
      "\u001b[K     |██▋                             | 122kB 9.6MB/s eta 0:00:01\r",
      "\u001b[K     |██▉                             | 133kB 9.6MB/s eta 0:00:01\r",
      "\u001b[K     |███                             | 143kB 9.6MB/s eta 0:00:01\r",
      "\u001b[K     |███▎                            | 153kB 9.6MB/s eta 0:00:01\r",
      "\u001b[K     |███▌                            | 163kB 9.6MB/s eta 0:00:01\r",
      "\u001b[K     |███▋                            | 174kB 9.6MB/s eta 0:00:01\r",
      "\u001b[K     |███▉                            | 184kB 9.6MB/s eta 0:00:01\r",
      "\u001b[K     |████                            | 194kB 9.6MB/s eta 0:00:01\r",
      "\u001b[K     |████▎                           | 204kB 9.6MB/s eta 0:00:01\r",
      "\u001b[K     |████▌                           | 215kB 9.6MB/s eta 0:00:01\r",
      "\u001b[K     |████▊                           | 225kB 9.6MB/s eta 0:00:01\r",
      "\u001b[K     |█████                           | 235kB 9.6MB/s eta 0:00:01\r",
      "\u001b[K     |█████▏                          | 245kB 9.6MB/s eta 0:00:01\r",
      "\u001b[K     |█████▍                          | 256kB 9.6MB/s eta 0:00:01\r",
      "\u001b[K     |█████▋                          | 266kB 9.6MB/s eta 0:00:01\r",
      "\u001b[K     |█████▉                          | 276kB 9.6MB/s eta 0:00:01\r",
      "\u001b[K     |██████                          | 286kB 9.6MB/s eta 0:00:01\r",
      "\u001b[K     |██████▎                         | 296kB 9.6MB/s eta 0:00:01\r",
      "\u001b[K     |██████▌                         | 307kB 9.6MB/s eta 0:00:01\r",
      "\u001b[K     |██████▊                         | 317kB 9.6MB/s eta 0:00:01\r",
      "\u001b[K     |███████                         | 327kB 9.6MB/s eta 0:00:01\r",
      "\u001b[K     |███████                         | 337kB 9.6MB/s eta 0:00:01\r",
      "\u001b[K     |███████▎                        | 348kB 9.6MB/s eta 0:00:01\r",
      "\u001b[K     |███████▌                        | 358kB 9.6MB/s eta 0:00:01\r",
      "\u001b[K     |███████▊                        | 368kB 9.6MB/s eta 0:00:01\r",
      "\u001b[K     |████████                        | 378kB 9.6MB/s eta 0:00:01\r",
      "\u001b[K     |████████▏                       | 389kB 9.6MB/s eta 0:00:01\r",
      "\u001b[K     |████████▍                       | 399kB 9.6MB/s eta 0:00:01\r",
      "\u001b[K     |████████▋                       | 409kB 9.6MB/s eta 0:00:01\r",
      "\u001b[K     |████████▉                       | 419kB 9.6MB/s eta 0:00:01\r",
      "\u001b[K     |█████████                       | 430kB 9.6MB/s eta 0:00:01\r",
      "\u001b[K     |█████████▎                      | 440kB 9.6MB/s eta 0:00:01\r",
      "\u001b[K     |█████████▌                      | 450kB 9.6MB/s eta 0:00:01\r",
      "\u001b[K     |█████████▊                      | 460kB 9.6MB/s eta 0:00:01\r",
      "\u001b[K     |██████████                      | 471kB 9.6MB/s eta 0:00:01\r",
      "\u001b[K     |██████████▏                     | 481kB 9.6MB/s eta 0:00:01\r",
      "\u001b[K     |██████████▍                     | 491kB 9.6MB/s eta 0:00:01\r",
      "\u001b[K     |██████████▋                     | 501kB 9.6MB/s eta 0:00:01\r",
      "\u001b[K     |██████████▊                     | 512kB 9.6MB/s eta 0:00:01\r",
      "\u001b[K     |███████████                     | 522kB 9.6MB/s eta 0:00:01\r",
      "\u001b[K     |███████████▏                    | 532kB 9.6MB/s eta 0:00:01\r",
      "\u001b[K     |███████████▍                    | 542kB 9.6MB/s eta 0:00:01\r",
      "\u001b[K     |███████████▋                    | 552kB 9.6MB/s eta 0:00:01\r",
      "\u001b[K     |███████████▉                    | 563kB 9.6MB/s eta 0:00:01\r",
      "\u001b[K     |████████████                    | 573kB 9.6MB/s eta 0:00:01\r",
      "\u001b[K     |████████████▎                   | 583kB 9.6MB/s eta 0:00:01\r",
      "\u001b[K     |████████████▌                   | 593kB 9.6MB/s eta 0:00:01\r",
      "\u001b[K     |████████████▊                   | 604kB 9.6MB/s eta 0:00:01\r",
      "\u001b[K     |█████████████                   | 614kB 9.6MB/s eta 0:00:01\r",
      "\u001b[K     |█████████████▏                  | 624kB 9.6MB/s eta 0:00:01\r",
      "\u001b[K     |█████████████▍                  | 634kB 9.6MB/s eta 0:00:01\r",
      "\u001b[K     |█████████████▋                  | 645kB 9.6MB/s eta 0:00:01\r",
      "\u001b[K     |█████████████▉                  | 655kB 9.6MB/s eta 0:00:01\r",
      "\u001b[K     |██████████████                  | 665kB 9.6MB/s eta 0:00:01\r",
      "\u001b[K     |██████████████▏                 | 675kB 9.6MB/s eta 0:00:01\r",
      "\u001b[K     |██████████████▍                 | 686kB 9.6MB/s eta 0:00:01\r",
      "\u001b[K     |██████████████▋                 | 696kB 9.6MB/s eta 0:00:01\r",
      "\u001b[K     |██████████████▉                 | 706kB 9.6MB/s eta 0:00:01\r",
      "\u001b[K     |███████████████                 | 716kB 9.6MB/s eta 0:00:01\r",
      "\u001b[K     |███████████████▎                | 727kB 9.6MB/s eta 0:00:01\r",
      "\u001b[K     |███████████████▌                | 737kB 9.6MB/s eta 0:00:01\r",
      "\u001b[K     |███████████████▊                | 747kB 9.6MB/s eta 0:00:01\r",
      "\u001b[K     |████████████████                | 757kB 9.6MB/s eta 0:00:01\r",
      "\u001b[K     |████████████████▏               | 768kB 9.6MB/s eta 0:00:01\r",
      "\u001b[K     |████████████████▍               | 778kB 9.6MB/s eta 0:00:01\r",
      "\u001b[K     |████████████████▋               | 788kB 9.6MB/s eta 0:00:01\r",
      "\u001b[K     |████████████████▉               | 798kB 9.6MB/s eta 0:00:01\r",
      "\u001b[K     |█████████████████               | 808kB 9.6MB/s eta 0:00:01\r",
      "\u001b[K     |█████████████████▎              | 819kB 9.6MB/s eta 0:00:01\r",
      "\u001b[K     |█████████████████▌              | 829kB 9.6MB/s eta 0:00:01\r",
      "\u001b[K     |█████████████████▊              | 839kB 9.6MB/s eta 0:00:01\r",
      "\u001b[K     |█████████████████▉              | 849kB 9.6MB/s eta 0:00:01\r",
      "\u001b[K     |██████████████████              | 860kB 9.6MB/s eta 0:00:01\r",
      "\u001b[K     |██████████████████▎             | 870kB 9.6MB/s eta 0:00:01\r",
      "\u001b[K     |██████████████████▌             | 880kB 9.6MB/s eta 0:00:01\r",
      "\u001b[K     |██████████████████▊             | 890kB 9.6MB/s eta 0:00:01\r",
      "\u001b[K     |███████████████████             | 901kB 9.6MB/s eta 0:00:01\r",
      "\u001b[K     |███████████████████▏            | 911kB 9.6MB/s eta 0:00:01\r",
      "\u001b[K     |███████████████████▍            | 921kB 9.6MB/s eta 0:00:01\r",
      "\u001b[K     |███████████████████▋            | 931kB 9.6MB/s eta 0:00:01\r",
      "\u001b[K     |███████████████████▉            | 942kB 9.6MB/s eta 0:00:01\r",
      "\u001b[K     |████████████████████            | 952kB 9.6MB/s eta 0:00:01\r",
      "\u001b[K     |████████████████████▎           | 962kB 9.6MB/s eta 0:00:01\r",
      "\u001b[K     |████████████████████▌           | 972kB 9.6MB/s eta 0:00:01\r",
      "\u001b[K     |████████████████████▊           | 983kB 9.6MB/s eta 0:00:01\r",
      "\u001b[K     |█████████████████████           | 993kB 9.6MB/s eta 0:00:01\r",
      "\u001b[K     |█████████████████████▏          | 1.0MB 9.6MB/s eta 0:00:01\r",
      "\u001b[K     |█████████████████████▎          | 1.0MB 9.6MB/s eta 0:00:01\r",
      "\u001b[K     |█████████████████████▌          | 1.0MB 9.6MB/s eta 0:00:01\r",
      "\u001b[K     |█████████████████████▊          | 1.0MB 9.6MB/s eta 0:00:01\r",
      "\u001b[K     |██████████████████████          | 1.0MB 9.6MB/s eta 0:00:01\r",
      "\u001b[K     |██████████████████████▏         | 1.1MB 9.6MB/s eta 0:00:01\r",
      "\u001b[K     |██████████████████████▍         | 1.1MB 9.6MB/s eta 0:00:01\r",
      "\u001b[K     |██████████████████████▋         | 1.1MB 9.6MB/s eta 0:00:01\r",
      "\u001b[K     |██████████████████████▉         | 1.1MB 9.6MB/s eta 0:00:01\r",
      "\u001b[K     |███████████████████████         | 1.1MB 9.6MB/s eta 0:00:01\r",
      "\u001b[K     |███████████████████████▎        | 1.1MB 9.6MB/s eta 0:00:01\r",
      "\u001b[K     |███████████████████████▌        | 1.1MB 9.6MB/s eta 0:00:01\r",
      "\u001b[K     |███████████████████████▊        | 1.1MB 9.6MB/s eta 0:00:01\r",
      "\u001b[K     |████████████████████████        | 1.1MB 9.6MB/s eta 0:00:01\r",
      "\u001b[K     |████████████████████████▏       | 1.1MB 9.6MB/s eta 0:00:01\r",
      "\u001b[K     |████████████████████████▍       | 1.2MB 9.6MB/s eta 0:00:01\r",
      "\u001b[K     |████████████████████████▋       | 1.2MB 9.6MB/s eta 0:00:01\r",
      "\u001b[K     |████████████████████████▊       | 1.2MB 9.6MB/s eta 0:00:01\r",
      "\u001b[K     |█████████████████████████       | 1.2MB 9.6MB/s eta 0:00:01\r",
      "\u001b[K     |█████████████████████████▏      | 1.2MB 9.6MB/s eta 0:00:01\r",
      "\u001b[K     |█████████████████████████▍      | 1.2MB 9.6MB/s eta 0:00:01\r",
      "\u001b[K     |█████████████████████████▋      | 1.2MB 9.6MB/s eta 0:00:01\r",
      "\u001b[K     |█████████████████████████▉      | 1.2MB 9.6MB/s eta 0:00:01\r",
      "\u001b[K     |██████████████████████████      | 1.2MB 9.6MB/s eta 0:00:01\r",
      "\u001b[K     |██████████████████████████▎     | 1.2MB 9.6MB/s eta 0:00:01\r",
      "\u001b[K     |██████████████████████████▌     | 1.3MB 9.6MB/s eta 0:00:01\r",
      "\u001b[K     |██████████████████████████▊     | 1.3MB 9.6MB/s eta 0:00:01\r",
      "\u001b[K     |███████████████████████████     | 1.3MB 9.6MB/s eta 0:00:01\r",
      "\u001b[K     |███████████████████████████▏    | 1.3MB 9.6MB/s eta 0:00:01\r",
      "\u001b[K     |███████████████████████████▍    | 1.3MB 9.6MB/s eta 0:00:01\r",
      "\u001b[K     |███████████████████████████▋    | 1.3MB 9.6MB/s eta 0:00:01\r",
      "\u001b[K     |███████████████████████████▉    | 1.3MB 9.6MB/s eta 0:00:01\r",
      "\u001b[K     |████████████████████████████    | 1.3MB 9.6MB/s eta 0:00:01\r",
      "\u001b[K     |████████████████████████████▎   | 1.3MB 9.6MB/s eta 0:00:01\r",
      "\u001b[K     |████████████████████████████▍   | 1.4MB 9.6MB/s eta 0:00:01\r",
      "\u001b[K     |████████████████████████████▋   | 1.4MB 9.6MB/s eta 0:00:01\r",
      "\u001b[K     |████████████████████████████▉   | 1.4MB 9.6MB/s eta 0:00:01\r",
      "\u001b[K     |█████████████████████████████   | 1.4MB 9.6MB/s eta 0:00:01\r",
      "\u001b[K     |█████████████████████████████▎  | 1.4MB 9.6MB/s eta 0:00:01\r",
      "\u001b[K     |█████████████████████████████▌  | 1.4MB 9.6MB/s eta 0:00:01\r",
      "\u001b[K     |█████████████████████████████▊  | 1.4MB 9.6MB/s eta 0:00:01\r",
      "\u001b[K     |██████████████████████████████  | 1.4MB 9.6MB/s eta 0:00:01\r",
      "\u001b[K     |██████████████████████████████▏ | 1.4MB 9.6MB/s eta 0:00:01\r",
      "\u001b[K     |██████████████████████████████▍ | 1.4MB 9.6MB/s eta 0:00:01\r",
      "\u001b[K     |██████████████████████████████▋ | 1.5MB 9.6MB/s eta 0:00:01\r",
      "\u001b[K     |██████████████████████████████▉ | 1.5MB 9.6MB/s eta 0:00:01\r",
      "\u001b[K     |███████████████████████████████ | 1.5MB 9.6MB/s eta 0:00:01\r",
      "\u001b[K     |███████████████████████████████▎| 1.5MB 9.6MB/s eta 0:00:01\r",
      "\u001b[K     |███████████████████████████████▌| 1.5MB 9.6MB/s eta 0:00:01\r",
      "\u001b[K     |███████████████████████████████▊| 1.5MB 9.6MB/s eta 0:00:01\r",
      "\u001b[K     |███████████████████████████████▉| 1.5MB 9.6MB/s eta 0:00:01\r",
      "\u001b[K     |████████████████████████████████| 1.5MB 9.6MB/s \n",
      "\u001b[?25hInstalling collected packages: pip\n",
      "  Found existing installation: pip 19.3.1\n",
      "    Uninstalling pip-19.3.1:\n",
      "      Successfully uninstalled pip-19.3.1\n",
      "Successfully installed pip-20.3.3\n"
     ]
    }
   ],
   "source": [
    "pip install --upgrade pip"
   ]
  },
  {
   "cell_type": "code",
   "execution_count": null,
   "metadata": {
    "colab": {
     "base_uri": "https://localhost:8080/"
    },
    "executionInfo": {
     "elapsed": 9664,
     "status": "ok",
     "timestamp": 1610468449224,
     "user": {
      "displayName": "Shreenidhi Bharadwaj",
      "photoUrl": "",
      "userId": "11178425699106318599"
     },
     "user_tz": 480
    },
    "id": "ObQwHxRoZZ4e",
    "outputId": "045caf0a-e57c-42d0-d604-977f5004e139"
   },
   "outputs": [
    {
     "name": "stdout",
     "output_type": "stream",
     "text": [
      "Requirement already satisfied: prettytable in /usr/local/lib/python3.6/dist-packages (2.0.0)\n",
      "Requirement already satisfied: wcwidth in /usr/local/lib/python3.6/dist-packages (from prettytable) (0.2.5)\n",
      "Requirement already satisfied: setuptools in /usr/local/lib/python3.6/dist-packages (from prettytable) (51.1.1)\n",
      "Collecting geopandas\n",
      "  Downloading geopandas-0.8.1-py2.py3-none-any.whl (962 kB)\n",
      "\u001b[K     |████████████████████████████████| 962 kB 9.6 MB/s \n",
      "\u001b[?25hRequirement already satisfied: pandas>=0.23.0 in /usr/local/lib/python3.6/dist-packages (from geopandas) (1.1.5)\n",
      "Requirement already satisfied: shapely in /usr/local/lib/python3.6/dist-packages (from geopandas) (1.7.1)\n",
      "Requirement already satisfied: numpy>=1.15.4 in /usr/local/lib/python3.6/dist-packages (from pandas>=0.23.0->geopandas) (1.19.5)\n",
      "Requirement already satisfied: python-dateutil>=2.7.3 in /usr/local/lib/python3.6/dist-packages (from pandas>=0.23.0->geopandas) (2.8.1)\n",
      "Requirement already satisfied: pytz>=2017.2 in /usr/local/lib/python3.6/dist-packages (from pandas>=0.23.0->geopandas) (2018.9)\n",
      "Collecting pyproj>=2.2.0\n",
      "  Downloading pyproj-3.0.0.post1-cp36-cp36m-manylinux2010_x86_64.whl (6.4 MB)\n",
      "\u001b[K     |████████████████████████████████| 6.4 MB 13.6 MB/s \n",
      "\u001b[?25hRequirement already satisfied: certifi in /usr/local/lib/python3.6/dist-packages (from pyproj>=2.2.0->geopandas) (2020.12.5)\n",
      "Requirement already satisfied: six>=1.5 in /usr/local/lib/python3.6/dist-packages (from python-dateutil>=2.7.3->pandas>=0.23.0->geopandas) (1.15.0)\n",
      "Collecting fiona\n",
      "  Downloading Fiona-1.8.18-cp36-cp36m-manylinux1_x86_64.whl (14.8 MB)\n",
      "\u001b[K     |████████████████████████████████| 14.8 MB 43.3 MB/s \n",
      "\u001b[?25hRequirement already satisfied: click<8,>=4.0 in /usr/local/lib/python3.6/dist-packages (from fiona->geopandas) (7.1.2)\n",
      "Requirement already satisfied: attrs>=17 in /usr/local/lib/python3.6/dist-packages (from fiona->geopandas) (20.3.0)\n",
      "Collecting click-plugins>=1.0\n",
      "  Downloading click_plugins-1.1.1-py2.py3-none-any.whl (7.5 kB)\n",
      "Collecting cligj>=0.5\n",
      "  Downloading cligj-0.7.1-py3-none-any.whl (7.1 kB)\n",
      "Collecting munch\n",
      "  Downloading munch-2.5.0-py2.py3-none-any.whl (10 kB)\n",
      "Installing collected packages: munch, cligj, click-plugins, pyproj, fiona, geopandas\n",
      "Successfully installed click-plugins-1.1.1 cligj-0.7.1 fiona-1.8.18 geopandas-0.8.1 munch-2.5.0 pyproj-3.0.0.post1\n"
     ]
    }
   ],
   "source": [
    "!pip install prettytable\n",
    "!pip install geopandas"
   ]
  },
  {
   "cell_type": "code",
   "execution_count": 12,
   "metadata": {
    "executionInfo": {
     "elapsed": 510,
     "status": "ok",
     "timestamp": 1610468992537,
     "user": {
      "displayName": "Shreenidhi Bharadwaj",
      "photoUrl": "",
      "userId": "11178425699106318599"
     },
     "user_tz": 480
    },
    "id": "cefyZvf4ZZ4e"
   },
   "outputs": [],
   "source": [
    "###Loading Packages###\n",
    "import pandas as pd  # data frame operations  \n",
    "import numpy as np  # arrays and math functions\n",
    "import matplotlib.pyplot as plt  # static plotting\n",
    "import seaborn as sns  # pretty plotting, including heat map\n",
    "import re # regular expressions\n",
    "import scipy\n",
    "import os # Operation System\n",
    "import geopandas as gpd\n",
    "from prettytable import PrettyTable\n",
    "import seaborn as sns\n",
    "import sklearn\n",
    "import math\n",
    "from datetime import datetime"
   ]
  },
  {
   "cell_type": "code",
   "execution_count": null,
   "metadata": {
    "id": "elJ-lxeEZZ4f"
   },
   "outputs": [],
   "source": [
    "# output of plotting commands is displayed inline directly below the code cell that produced it\n",
    "%matplotlib inline"
   ]
  },
  {
   "cell_type": "markdown",
   "metadata": {
    "id": "OMnGkiwSZZ4f"
   },
   "source": [
    "##### Load Data (for Colab/Google Drive)\n",
    "##### S2 Mount Google Drive to Colab Enviorment\n",
    "from google.colab import drive\n",
    "drive.mount('/content/gdrive')"
   ]
  },
  {
   "cell_type": "code",
   "execution_count": 13,
   "metadata": {
    "colab": {
     "base_uri": "https://localhost:8080/"
    },
    "executionInfo": {
     "elapsed": 584,
     "status": "ok",
     "timestamp": 1610468997571,
     "user": {
      "displayName": "Shreenidhi Bharadwaj",
      "photoUrl": "",
      "userId": "11178425699106318599"
     },
     "user_tz": 480
    },
    "id": "p0kBDJ9CZZ4f",
    "outputId": "5e5200fd-3ff3-404b-ee07-ca2d34b067fb"
   },
   "outputs": [
    {
     "name": "stdout",
     "output_type": "stream",
     "text": [
      "Drive already mounted at /content/gdrive; to attempt to forcibly remount, call drive.mount(\"/content/gdrive\", force_remount=True).\n"
     ]
    }
   ],
   "source": [
    "#S2 Mount Google Drive to Colab Enviorment\n",
    "from google.colab import drive\n",
    "drive.mount('/content/gdrive')"
   ]
  },
  {
   "cell_type": "code",
   "execution_count": null,
   "metadata": {
    "colab": {
     "base_uri": "https://localhost:8080/"
    },
    "executionInfo": {
     "elapsed": 735,
     "status": "ok",
     "timestamp": 1610468999589,
     "user": {
      "displayName": "Shreenidhi Bharadwaj",
      "photoUrl": "",
      "userId": "11178425699106318599"
     },
     "user_tz": 480
    },
    "id": "9FckOmmjaK72",
    "outputId": "2fe774fe-ed91-4971-ada8-32aac053ea26"
   },
   "outputs": [],
   "source": [
    "#S3 Establish working directory\n",
    "import os # Operation System\n",
    "os.getcwd()\n",
    "%cd /content/gdrive/My Drive/Assignments/1/\n",
    "!pwd\n",
    "!ls\n",
    "print('Working Directory')\n",
    "print(os.getcwd())"
   ]
  },
  {
   "cell_type": "code",
   "execution_count": 15,
   "metadata": {
    "executionInfo": {
     "elapsed": 630,
     "status": "ok",
     "timestamp": 1610469003735,
     "user": {
      "displayName": "Shreenidhi Bharadwaj",
      "photoUrl": "",
      "userId": "11178425699106318599"
     },
     "user_tz": 480
    },
    "id": "dI4kk1zwZZ4g"
   },
   "outputs": [],
   "source": [
    "##### Load Data \n",
    "work_dir = \" /content/gdrive/My Drive/1/\"\n",
    "covid19_dfA=pd.read_csv('./data.csv')"
   ]
  },
  {
   "cell_type": "code",
   "execution_count": 18,
   "metadata": {
    "colab": {
     "base_uri": "https://localhost:8080/",
     "height": 204
    },
    "executionInfo": {
     "elapsed": 418,
     "status": "ok",
     "timestamp": 1610469031380,
     "user": {
      "displayName": "Shreenidhi Bharadwaj",
      "photoUrl": "",
      "userId": "11178425699106318599"
     },
     "user_tz": 480
    },
    "id": "qxMjx_fKbwT6",
    "outputId": "ec95f435-838b-4c9c-cada-7d914ba5d226"
   },
   "outputs": [
    {
     "data": {
      "text/html": [
       "<div>\n",
       "<style scoped>\n",
       "    .dataframe tbody tr th:only-of-type {\n",
       "        vertical-align: middle;\n",
       "    }\n",
       "\n",
       "    .dataframe tbody tr th {\n",
       "        vertical-align: top;\n",
       "    }\n",
       "\n",
       "    .dataframe thead th {\n",
       "        text-align: right;\n",
       "    }\n",
       "</style>\n",
       "<table border=\"1\" class=\"dataframe\">\n",
       "  <thead>\n",
       "    <tr style=\"text-align: right;\">\n",
       "      <th></th>\n",
       "      <th>Date</th>\n",
       "      <th>Day</th>\n",
       "      <th>Month</th>\n",
       "      <th>Year</th>\n",
       "      <th>Cases</th>\n",
       "      <th>Deaths</th>\n",
       "      <th>Country</th>\n",
       "      <th>Population</th>\n",
       "      <th>Continent</th>\n",
       "      <th>CumulativeNumberPer100KCases</th>\n",
       "    </tr>\n",
       "  </thead>\n",
       "  <tbody>\n",
       "    <tr>\n",
       "      <th>0</th>\n",
       "      <td>25/08/2020</td>\n",
       "      <td>25</td>\n",
       "      <td>8</td>\n",
       "      <td>2020</td>\n",
       "      <td>71</td>\n",
       "      <td>10</td>\n",
       "      <td>Afghanistan</td>\n",
       "      <td>38041757</td>\n",
       "      <td>Asia</td>\n",
       "      <td>2.670749</td>\n",
       "    </tr>\n",
       "    <tr>\n",
       "      <th>1</th>\n",
       "      <td>24/08/2020</td>\n",
       "      <td>24</td>\n",
       "      <td>8</td>\n",
       "      <td>2020</td>\n",
       "      <td>0</td>\n",
       "      <td>0</td>\n",
       "      <td>Afghanistan</td>\n",
       "      <td>38041757</td>\n",
       "      <td>Asia</td>\n",
       "      <td>2.484112</td>\n",
       "    </tr>\n",
       "    <tr>\n",
       "      <th>2</th>\n",
       "      <td>23/08/2020</td>\n",
       "      <td>23</td>\n",
       "      <td>8</td>\n",
       "      <td>2020</td>\n",
       "      <td>105</td>\n",
       "      <td>2</td>\n",
       "      <td>Afghanistan</td>\n",
       "      <td>38041757</td>\n",
       "      <td>Asia</td>\n",
       "      <td>2.484112</td>\n",
       "    </tr>\n",
       "    <tr>\n",
       "      <th>3</th>\n",
       "      <td>22/08/2020</td>\n",
       "      <td>22</td>\n",
       "      <td>8</td>\n",
       "      <td>2020</td>\n",
       "      <td>38</td>\n",
       "      <td>0</td>\n",
       "      <td>Afghanistan</td>\n",
       "      <td>38041757</td>\n",
       "      <td>Asia</td>\n",
       "      <td>2.310619</td>\n",
       "    </tr>\n",
       "    <tr>\n",
       "      <th>4</th>\n",
       "      <td>21/08/2020</td>\n",
       "      <td>21</td>\n",
       "      <td>8</td>\n",
       "      <td>2020</td>\n",
       "      <td>97</td>\n",
       "      <td>2</td>\n",
       "      <td>Afghanistan</td>\n",
       "      <td>38041757</td>\n",
       "      <td>Asia</td>\n",
       "      <td>2.415766</td>\n",
       "    </tr>\n",
       "  </tbody>\n",
       "</table>\n",
       "</div>"
      ],
      "text/plain": [
       "         Date  Day  Month  ...  Population  Continent  CumulativeNumberPer100KCases \n",
       "0  25/08/2020   25      8  ...    38041757       Asia                       2.670749\n",
       "1  24/08/2020   24      8  ...    38041757       Asia                       2.484112\n",
       "2  23/08/2020   23      8  ...    38041757       Asia                       2.484112\n",
       "3  22/08/2020   22      8  ...    38041757       Asia                       2.310619\n",
       "4  21/08/2020   21      8  ...    38041757       Asia                       2.415766\n",
       "\n",
       "[5 rows x 10 columns]"
      ]
     },
     "execution_count": 18,
     "metadata": {
      "tags": []
     },
     "output_type": "execute_result"
    }
   ],
   "source": [
    "# Check few columns to make sure the data is loaded properly\n",
    "covid19_dfA.head()"
   ]
  },
  {
   "cell_type": "markdown",
   "metadata": {
    "id": "fLLZv65cclwu"
   },
   "source": [
    "#### Common functions/libraries"
   ]
  },
  {
   "cell_type": "code",
   "execution_count": 16,
   "metadata": {
    "executionInfo": {
     "elapsed": 346,
     "status": "ok",
     "timestamp": 1610469005719,
     "user": {
      "displayName": "Shreenidhi Bharadwaj",
      "photoUrl": "",
      "userId": "11178425699106318599"
     },
     "user_tz": 480
    },
    "id": "MveG9qPYZZ4g"
   },
   "outputs": [],
   "source": [
    "# correlation heat map setup for seaborn\n",
    "def corr_chart(df_corr):\n",
    "    corr=df_corr.corr()\n",
    "    #screen top half to get a triangle\n",
    "    top = np.zeros_like(corr, dtype=np.bool)\n",
    "    top[np.triu_indices_from(top)] = True\n",
    "    fig=plt.figure()\n",
    "    fig, ax = plt.subplots(figsize=(12,12))\n",
    "    sns.heatmap(corr, mask=top, cmap='coolwarm', \n",
    "        center = 0, square=True, \n",
    "        linewidths=.5, cbar_kws={'shrink':.5}, \n",
    "        annot = True, annot_kws={'size': 9}, fmt = '.3f')           \n",
    "    plt.xticks(rotation=45) # rotate variable labels on columns (x axis)\n",
    "    plt.yticks(rotation=0) # use horizontal variable labels on rows (y axis)\n",
    "    plt.title('Correlation Heat Map')\n",
    "    plt.show()\n",
    "    plt.close()\n",
    "\n",
    "np.set_printoptions(precision=3)"
   ]
  },
  {
   "cell_type": "code",
   "execution_count": 17,
   "metadata": {
    "executionInfo": {
     "elapsed": 649,
     "status": "ok",
     "timestamp": 1610469007386,
     "user": {
      "displayName": "Shreenidhi Bharadwaj",
      "photoUrl": "",
      "userId": "11178425699106318599"
     },
     "user_tz": 480
    },
    "id": "Z8TsKRulZZ4g"
   },
   "outputs": [],
   "source": [
    "# overrides the default rcParams for plotting\n",
    "def init_plotting():\n",
    "    plt.style.use(style='ggplot')\n",
    "    plt.rcParams['figure.figsize'] = (10.0, 8.0)\n",
    "    plt.rcParams['font.family'] = 'serif'\n",
    "    plt.rcParams['text.color'] = 'black'\n",
    "    plt.rcParams['axes.labelcolor'] = 'black'\n",
    "    plt.rcParams['xtick.color']= 'black'\n",
    "    plt.rcParams['ytick.color']= 'black'\n",
    "\n",
    "init_plotting()\n",
    "\n",
    "# avoid empty plot, always good to close plot\n",
    "plt.close()"
   ]
  },
  {
   "cell_type": "markdown",
   "metadata": {
    "id": "QMf_DNXbZZ4h"
   },
   "source": [
    "#### Exploratory Data Analysis (EDA) "
   ]
  },
  {
   "cell_type": "code",
   "execution_count": null,
   "metadata": {
    "id": "yUghcHoLZZ4g",
    "outputId": "0929e7cf-aa13-4647-baf2-e864f313fa0f"
   },
   "outputs": [
    {
     "name": "stdout",
     "output_type": "stream",
     "text": [
      "Shape: (38492, 10) \n",
      "\n",
      "Variable Types:\n",
      "Date                              object\n",
      "Day                                int64\n",
      "Month                              int64\n",
      "Year                               int64\n",
      "Cases                              int64\n",
      "Deaths                             int64\n",
      "Country                           object\n",
      "Population                         int64\n",
      "Continent                         object\n",
      "CumulativeNumberPer100KCases     float64\n",
      "dtype: object\n"
     ]
    },
    {
     "data": {
      "text/html": [
       "<div>\n",
       "<style scoped>\n",
       "    .dataframe tbody tr th:only-of-type {\n",
       "        vertical-align: middle;\n",
       "    }\n",
       "\n",
       "    .dataframe tbody tr th {\n",
       "        vertical-align: top;\n",
       "    }\n",
       "\n",
       "    .dataframe thead th {\n",
       "        text-align: right;\n",
       "    }\n",
       "</style>\n",
       "<table border=\"1\" class=\"dataframe\">\n",
       "  <thead>\n",
       "    <tr style=\"text-align: right;\">\n",
       "      <th></th>\n",
       "      <th>Date</th>\n",
       "      <th>Day</th>\n",
       "      <th>Month</th>\n",
       "      <th>Year</th>\n",
       "      <th>Cases</th>\n",
       "      <th>Deaths</th>\n",
       "      <th>Country</th>\n",
       "      <th>Population</th>\n",
       "      <th>Continent</th>\n",
       "      <th>CumulativeNumberPer100KCases</th>\n",
       "    </tr>\n",
       "  </thead>\n",
       "  <tbody>\n",
       "    <tr>\n",
       "      <th>0</th>\n",
       "      <td>25/08/2020</td>\n",
       "      <td>25</td>\n",
       "      <td>8</td>\n",
       "      <td>2020</td>\n",
       "      <td>71</td>\n",
       "      <td>10</td>\n",
       "      <td>Afghanistan</td>\n",
       "      <td>38041757</td>\n",
       "      <td>Asia</td>\n",
       "      <td>2.670749</td>\n",
       "    </tr>\n",
       "    <tr>\n",
       "      <th>1</th>\n",
       "      <td>24/08/2020</td>\n",
       "      <td>24</td>\n",
       "      <td>8</td>\n",
       "      <td>2020</td>\n",
       "      <td>0</td>\n",
       "      <td>0</td>\n",
       "      <td>Afghanistan</td>\n",
       "      <td>38041757</td>\n",
       "      <td>Asia</td>\n",
       "      <td>2.484112</td>\n",
       "    </tr>\n",
       "    <tr>\n",
       "      <th>2</th>\n",
       "      <td>23/08/2020</td>\n",
       "      <td>23</td>\n",
       "      <td>8</td>\n",
       "      <td>2020</td>\n",
       "      <td>105</td>\n",
       "      <td>2</td>\n",
       "      <td>Afghanistan</td>\n",
       "      <td>38041757</td>\n",
       "      <td>Asia</td>\n",
       "      <td>2.484112</td>\n",
       "    </tr>\n",
       "    <tr>\n",
       "      <th>3</th>\n",
       "      <td>22/08/2020</td>\n",
       "      <td>22</td>\n",
       "      <td>8</td>\n",
       "      <td>2020</td>\n",
       "      <td>38</td>\n",
       "      <td>0</td>\n",
       "      <td>Afghanistan</td>\n",
       "      <td>38041757</td>\n",
       "      <td>Asia</td>\n",
       "      <td>2.310619</td>\n",
       "    </tr>\n",
       "    <tr>\n",
       "      <th>4</th>\n",
       "      <td>21/08/2020</td>\n",
       "      <td>21</td>\n",
       "      <td>8</td>\n",
       "      <td>2020</td>\n",
       "      <td>97</td>\n",
       "      <td>2</td>\n",
       "      <td>Afghanistan</td>\n",
       "      <td>38041757</td>\n",
       "      <td>Asia</td>\n",
       "      <td>2.415766</td>\n",
       "    </tr>\n",
       "    <tr>\n",
       "      <th>5</th>\n",
       "      <td>20/08/2020</td>\n",
       "      <td>20</td>\n",
       "      <td>8</td>\n",
       "      <td>2020</td>\n",
       "      <td>160</td>\n",
       "      <td>8</td>\n",
       "      <td>Afghanistan</td>\n",
       "      <td>38041757</td>\n",
       "      <td>Asia</td>\n",
       "      <td>2.268560</td>\n",
       "    </tr>\n",
       "    <tr>\n",
       "      <th>6</th>\n",
       "      <td>19/08/2020</td>\n",
       "      <td>19</td>\n",
       "      <td>8</td>\n",
       "      <td>2020</td>\n",
       "      <td>0</td>\n",
       "      <td>0</td>\n",
       "      <td>Afghanistan</td>\n",
       "      <td>38041757</td>\n",
       "      <td>Asia</td>\n",
       "      <td>2.024092</td>\n",
       "    </tr>\n",
       "    <tr>\n",
       "      <th>7</th>\n",
       "      <td>18/08/2020</td>\n",
       "      <td>18</td>\n",
       "      <td>8</td>\n",
       "      <td>2020</td>\n",
       "      <td>3</td>\n",
       "      <td>0</td>\n",
       "      <td>Afghanistan</td>\n",
       "      <td>38041757</td>\n",
       "      <td>Asia</td>\n",
       "      <td>2.239644</td>\n",
       "    </tr>\n",
       "    <tr>\n",
       "      <th>8</th>\n",
       "      <td>17/08/2020</td>\n",
       "      <td>17</td>\n",
       "      <td>8</td>\n",
       "      <td>2020</td>\n",
       "      <td>45</td>\n",
       "      <td>5</td>\n",
       "      <td>Afghanistan</td>\n",
       "      <td>38041757</td>\n",
       "      <td>Asia</td>\n",
       "      <td>2.329020</td>\n",
       "    </tr>\n",
       "    <tr>\n",
       "      <th>9</th>\n",
       "      <td>16/08/2020</td>\n",
       "      <td>16</td>\n",
       "      <td>8</td>\n",
       "      <td>2020</td>\n",
       "      <td>120</td>\n",
       "      <td>7</td>\n",
       "      <td>Afghanistan</td>\n",
       "      <td>38041757</td>\n",
       "      <td>Asia</td>\n",
       "      <td>2.210729</td>\n",
       "    </tr>\n",
       "    <tr>\n",
       "      <th>10</th>\n",
       "      <td>15/08/2020</td>\n",
       "      <td>15</td>\n",
       "      <td>8</td>\n",
       "      <td>2020</td>\n",
       "      <td>7</td>\n",
       "      <td>0</td>\n",
       "      <td>Afghanistan</td>\n",
       "      <td>38041757</td>\n",
       "      <td>Asia</td>\n",
       "      <td>1.895286</td>\n",
       "    </tr>\n",
       "    <tr>\n",
       "      <th>11</th>\n",
       "      <td>14/08/2020</td>\n",
       "      <td>14</td>\n",
       "      <td>8</td>\n",
       "      <td>2020</td>\n",
       "      <td>79</td>\n",
       "      <td>9</td>\n",
       "      <td>Afghanistan</td>\n",
       "      <td>38041757</td>\n",
       "      <td>Asia</td>\n",
       "      <td>2.318505</td>\n",
       "    </tr>\n",
       "    <tr>\n",
       "      <th>12</th>\n",
       "      <td>13/08/2020</td>\n",
       "      <td>13</td>\n",
       "      <td>8</td>\n",
       "      <td>2020</td>\n",
       "      <td>76</td>\n",
       "      <td>10</td>\n",
       "      <td>Afghanistan</td>\n",
       "      <td>38041757</td>\n",
       "      <td>Asia</td>\n",
       "      <td>2.297475</td>\n",
       "    </tr>\n",
       "    <tr>\n",
       "      <th>13</th>\n",
       "      <td>12/08/2020</td>\n",
       "      <td>12</td>\n",
       "      <td>8</td>\n",
       "      <td>2020</td>\n",
       "      <td>215</td>\n",
       "      <td>32</td>\n",
       "      <td>Afghanistan</td>\n",
       "      <td>38041757</td>\n",
       "      <td>Asia</td>\n",
       "      <td>2.097695</td>\n",
       "    </tr>\n",
       "    <tr>\n",
       "      <th>14</th>\n",
       "      <td>11/08/2020</td>\n",
       "      <td>11</td>\n",
       "      <td>8</td>\n",
       "      <td>2020</td>\n",
       "      <td>0</td>\n",
       "      <td>0</td>\n",
       "      <td>Afghanistan</td>\n",
       "      <td>38041757</td>\n",
       "      <td>Asia</td>\n",
       "      <td>1.803282</td>\n",
       "    </tr>\n",
       "  </tbody>\n",
       "</table>\n",
       "</div>"
      ],
      "text/plain": [
       "          Date  Day  Month  Year  Cases  Deaths      Country  Population  \\\n",
       "0   25/08/2020   25      8  2020     71      10  Afghanistan    38041757   \n",
       "1   24/08/2020   24      8  2020      0       0  Afghanistan    38041757   \n",
       "2   23/08/2020   23      8  2020    105       2  Afghanistan    38041757   \n",
       "3   22/08/2020   22      8  2020     38       0  Afghanistan    38041757   \n",
       "4   21/08/2020   21      8  2020     97       2  Afghanistan    38041757   \n",
       "5   20/08/2020   20      8  2020    160       8  Afghanistan    38041757   \n",
       "6   19/08/2020   19      8  2020      0       0  Afghanistan    38041757   \n",
       "7   18/08/2020   18      8  2020      3       0  Afghanistan    38041757   \n",
       "8   17/08/2020   17      8  2020     45       5  Afghanistan    38041757   \n",
       "9   16/08/2020   16      8  2020    120       7  Afghanistan    38041757   \n",
       "10  15/08/2020   15      8  2020      7       0  Afghanistan    38041757   \n",
       "11  14/08/2020   14      8  2020     79       9  Afghanistan    38041757   \n",
       "12  13/08/2020   13      8  2020     76      10  Afghanistan    38041757   \n",
       "13  12/08/2020   12      8  2020    215      32  Afghanistan    38041757   \n",
       "14  11/08/2020   11      8  2020      0       0  Afghanistan    38041757   \n",
       "\n",
       "   Continent  CumulativeNumberPer100KCases   \n",
       "0       Asia                       2.670749  \n",
       "1       Asia                       2.484112  \n",
       "2       Asia                       2.484112  \n",
       "3       Asia                       2.310619  \n",
       "4       Asia                       2.415766  \n",
       "5       Asia                       2.268560  \n",
       "6       Asia                       2.024092  \n",
       "7       Asia                       2.239644  \n",
       "8       Asia                       2.329020  \n",
       "9       Asia                       2.210729  \n",
       "10      Asia                       1.895286  \n",
       "11      Asia                       2.318505  \n",
       "12      Asia                       2.297475  \n",
       "13      Asia                       2.097695  \n",
       "14      Asia                       1.803282  "
      ]
     },
     "execution_count": 10,
     "metadata": {
      "tags": []
     },
     "output_type": "execute_result"
    }
   ],
   "source": [
    "# Get an understanding of the data\n",
    "print(\"Shape:\", covid19_dfA.shape,\"\\n\")\n",
    "print(\"Variable Types:\") \n",
    "print(covid19_dfA.dtypes)\n",
    "\n",
    "covid19_dfA.head(15)"
   ]
  },
  {
   "cell_type": "code",
   "execution_count": 20,
   "metadata": {
    "colab": {
     "base_uri": "https://localhost:8080/"
    },
    "executionInfo": {
     "elapsed": 333,
     "status": "ok",
     "timestamp": 1610469138117,
     "user": {
      "displayName": "Shreenidhi Bharadwaj",
      "photoUrl": "",
      "userId": "11178425699106318599"
     },
     "user_tz": 480
    },
    "id": "e3ctJ6yydoPA",
    "outputId": "847e6244-befd-4e07-9259-557e590568a9",
    "scrolled": true
   },
   "outputs": [
    {
     "name": "stdout",
     "output_type": "stream",
     "text": [
      "\n",
      "Contents of covid19 data ---------------\n",
      "\n",
      "Number of Cases = 38492 \n",
      "\n",
      "         Date  Day  Month  ...  Population  Continent  CumulativeNumberPer100KCases \n",
      "0  25/08/2020   25      8  ...    38041757       Asia                       2.670749\n",
      "1  24/08/2020   24      8  ...    38041757       Asia                       2.484112\n",
      "2  23/08/2020   23      8  ...    38041757       Asia                       2.484112\n",
      "3  22/08/2020   22      8  ...    38041757       Asia                       2.310619\n",
      "4  21/08/2020   21      8  ...    38041757       Asia                       2.415766\n",
      "\n",
      "[5 rows x 10 columns]\n"
     ]
    }
   ],
   "source": [
    "### examine the structure of the DataFrame object###\n",
    "print('\\nContents of covid19 data ---------------')\n",
    "\n",
    "# could use len() or first index of shape() to get number of rows/observations\n",
    "print('\\nNumber of Cases =', len(covid19_dfA), '\\n') \n",
    "\n",
    "# show the column/variable names of the DataFrame\n",
    "# note that RespondentID is no longer present\n",
    "covid19_dfA.columns\n",
    "\n",
    "# abbreviated printing of the first five rows of the data frame\n",
    "print(pd.DataFrame.head(covid19_dfA))"
   ]
  },
  {
   "cell_type": "code",
   "execution_count": 23,
   "metadata": {
    "colab": {
     "base_uri": "https://localhost:8080/"
    },
    "executionInfo": {
     "elapsed": 309,
     "status": "ok",
     "timestamp": 1610469578528,
     "user": {
      "displayName": "Shreenidhi Bharadwaj",
      "photoUrl": "",
      "userId": "11178425699106318599"
     },
     "user_tz": 480
    },
    "id": "ToUXKIWqZZ4h",
    "outputId": "d5211831-a595-44e9-8db2-7fdd0325e552"
   },
   "outputs": [
    {
     "data": {
      "text/plain": [
       "210"
      ]
     },
     "execution_count": 23,
     "metadata": {
      "tags": []
     },
     "output_type": "execute_result"
    }
   ],
   "source": [
    "# Number of countries\n",
    "len(covid19_dfA.Country.unique())"
   ]
  },
  {
   "cell_type": "markdown",
   "metadata": {
    "id": "kRH_RuCyZZ4h"
   },
   "source": [
    "<div class=\"alert alert-block alert-warning\">\n",
    "Attention to the <b>count</b> row will indicate if column has missing records\n",
    "</div> "
   ]
  },
  {
   "cell_type": "code",
   "execution_count": 24,
   "metadata": {
    "colab": {
     "base_uri": "https://localhost:8080/",
     "height": 297
    },
    "executionInfo": {
     "elapsed": 912,
     "status": "ok",
     "timestamp": 1610469624409,
     "user": {
      "displayName": "Shreenidhi Bharadwaj",
      "photoUrl": "",
      "userId": "11178425699106318599"
     },
     "user_tz": 480
    },
    "id": "BZd9_bgRZZ4h",
    "outputId": "63900f09-6dae-46d0-b622-af107e95d7fc"
   },
   "outputs": [
    {
     "data": {
      "text/html": [
       "<div>\n",
       "<style scoped>\n",
       "    .dataframe tbody tr th:only-of-type {\n",
       "        vertical-align: middle;\n",
       "    }\n",
       "\n",
       "    .dataframe tbody tr th {\n",
       "        vertical-align: top;\n",
       "    }\n",
       "\n",
       "    .dataframe thead th {\n",
       "        text-align: right;\n",
       "    }\n",
       "</style>\n",
       "<table border=\"1\" class=\"dataframe\">\n",
       "  <thead>\n",
       "    <tr style=\"text-align: right;\">\n",
       "      <th></th>\n",
       "      <th>Day</th>\n",
       "      <th>Month</th>\n",
       "      <th>Year</th>\n",
       "      <th>Cases</th>\n",
       "      <th>Deaths</th>\n",
       "      <th>Population</th>\n",
       "      <th>CumulativeNumberPer100KCases</th>\n",
       "    </tr>\n",
       "  </thead>\n",
       "  <tbody>\n",
       "    <tr>\n",
       "      <th>count</th>\n",
       "      <td>38492.000000</td>\n",
       "      <td>38492.000000</td>\n",
       "      <td>38492.000000</td>\n",
       "      <td>38492.000000</td>\n",
       "      <td>38492.000000</td>\n",
       "      <td>3.849200e+04</td>\n",
       "      <td>38492.000000</td>\n",
       "    </tr>\n",
       "    <tr>\n",
       "      <th>mean</th>\n",
       "      <td>15.810558</td>\n",
       "      <td>5.192585</td>\n",
       "      <td>2019.998259</td>\n",
       "      <td>615.382937</td>\n",
       "      <td>21.247376</td>\n",
       "      <td>4.384876e+07</td>\n",
       "      <td>27.128374</td>\n",
       "    </tr>\n",
       "    <tr>\n",
       "      <th>std</th>\n",
       "      <td>8.694756</td>\n",
       "      <td>1.995496</td>\n",
       "      <td>0.041685</td>\n",
       "      <td>3815.217442</td>\n",
       "      <td>125.237191</td>\n",
       "      <td>1.598573e+08</td>\n",
       "      <td>67.447288</td>\n",
       "    </tr>\n",
       "    <tr>\n",
       "      <th>min</th>\n",
       "      <td>1.000000</td>\n",
       "      <td>1.000000</td>\n",
       "      <td>2019.000000</td>\n",
       "      <td>0.000000</td>\n",
       "      <td>0.000000</td>\n",
       "      <td>8.150000e+02</td>\n",
       "      <td>-1.262589</td>\n",
       "    </tr>\n",
       "    <tr>\n",
       "      <th>25%</th>\n",
       "      <td>8.000000</td>\n",
       "      <td>4.000000</td>\n",
       "      <td>2020.000000</td>\n",
       "      <td>0.000000</td>\n",
       "      <td>0.000000</td>\n",
       "      <td>1.394969e+06</td>\n",
       "      <td>0.060058</td>\n",
       "    </tr>\n",
       "    <tr>\n",
       "      <th>50%</th>\n",
       "      <td>16.000000</td>\n",
       "      <td>5.000000</td>\n",
       "      <td>2020.000000</td>\n",
       "      <td>7.000000</td>\n",
       "      <td>0.000000</td>\n",
       "      <td>8.519373e+06</td>\n",
       "      <td>2.882863</td>\n",
       "    </tr>\n",
       "    <tr>\n",
       "      <th>75%</th>\n",
       "      <td>23.000000</td>\n",
       "      <td>7.000000</td>\n",
       "      <td>2020.000000</td>\n",
       "      <td>126.000000</td>\n",
       "      <td>2.000000</td>\n",
       "      <td>3.036604e+07</td>\n",
       "      <td>19.221559</td>\n",
       "    </tr>\n",
       "    <tr>\n",
       "      <th>max</th>\n",
       "      <td>31.000000</td>\n",
       "      <td>12.000000</td>\n",
       "      <td>2020.000000</td>\n",
       "      <td>78427.000000</td>\n",
       "      <td>4928.000000</td>\n",
       "      <td>1.433784e+09</td>\n",
       "      <td>1058.225943</td>\n",
       "    </tr>\n",
       "  </tbody>\n",
       "</table>\n",
       "</div>"
      ],
      "text/plain": [
       "                Day         Month  ...    Population  CumulativeNumberPer100KCases \n",
       "count  38492.000000  38492.000000  ...  3.849200e+04                   38492.000000\n",
       "mean      15.810558      5.192585  ...  4.384876e+07                      27.128374\n",
       "std        8.694756      1.995496  ...  1.598573e+08                      67.447288\n",
       "min        1.000000      1.000000  ...  8.150000e+02                      -1.262589\n",
       "25%        8.000000      4.000000  ...  1.394969e+06                       0.060058\n",
       "50%       16.000000      5.000000  ...  8.519373e+06                       2.882863\n",
       "75%       23.000000      7.000000  ...  3.036604e+07                      19.221559\n",
       "max       31.000000     12.000000  ...  1.433784e+09                    1058.225943\n",
       "\n",
       "[8 rows x 7 columns]"
      ]
     },
     "execution_count": 24,
     "metadata": {
      "tags": []
     },
     "output_type": "execute_result"
    }
   ],
   "source": [
    "# summary statistics\n",
    "covid19_dfA.describe()"
   ]
  },
  {
   "cell_type": "markdown",
   "metadata": {
    "id": "hNg2xdXLZZ4i"
   },
   "source": [
    "### Review Dataset for Missing Values"
   ]
  },
  {
   "cell_type": "markdown",
   "metadata": {
    "id": "4SZIHgH-ZZ4i"
   },
   "source": [
    "<div class=\"alert alert-block alert-warning\">\n",
    "Review dataset for missing records\n",
    "</div>"
   ]
  },
  {
   "cell_type": "code",
   "execution_count": null,
   "metadata": {
    "id": "nZoBPWAmZZ4i",
    "outputId": "dddd35f9-9490-452f-cf26-666d62675c11"
   },
   "outputs": [
    {
     "data": {
      "text/plain": [
       "Date                             0\n",
       "Day                              0\n",
       "Month                            0\n",
       "Year                             0\n",
       "Cases                            0\n",
       "Deaths                           0\n",
       "Country                          0\n",
       "Population                       0\n",
       "Continent                        0\n",
       "CumulativeNumberPer100KCases     0\n",
       "dtype: int64"
      ]
     },
     "execution_count": 13,
     "metadata": {
      "tags": []
     },
     "output_type": "execute_result"
    }
   ],
   "source": [
    "covid19_dfA.isnull().sum()"
   ]
  },
  {
   "cell_type": "markdown",
   "metadata": {
    "id": "dUTqX87eZZ4i"
   },
   "source": [
    "## Preprocess Data for Analysis"
   ]
  },
  {
   "cell_type": "markdown",
   "metadata": {
    "id": "jS8xcx75ZZ4i"
   },
   "source": [
    "#### Date Column formatted into ISO 8601 standard format (Year - Month - Day)"
   ]
  },
  {
   "cell_type": "code",
   "execution_count": null,
   "metadata": {
    "id": "gNUmakkSZZ4i",
    "outputId": "e0d798dd-81c1-43af-ddce-cf66132a112d"
   },
   "outputs": [
    {
     "data": {
      "text/plain": [
       "0   2020-08-25\n",
       "1   2020-08-24\n",
       "2   2020-08-23\n",
       "3   2020-08-22\n",
       "4   2020-08-21\n",
       "Name: Date, dtype: datetime64[ns]"
      ]
     },
     "execution_count": 14,
     "metadata": {
      "tags": []
     },
     "output_type": "execute_result"
    }
   ],
   "source": [
    "covid19_dfA['Date']=pd.to_datetime(covid19_dfA['Date'], format='%d/%m/%Y').dt.strftime('%Y%m%d')\n",
    "covid19_dfA['Date']=pd.to_datetime(covid19_dfA['Date'], format='%Y/%m/%d')\n",
    "covid19_dfA['Date'].head()"
   ]
  },
  {
   "cell_type": "markdown",
   "metadata": {
    "id": "JB8RNquCZZ4j"
   },
   "source": [
    "#### Review Data Types (dtypes)"
   ]
  },
  {
   "cell_type": "code",
   "execution_count": 25,
   "metadata": {
    "colab": {
     "base_uri": "https://localhost:8080/"
    },
    "executionInfo": {
     "elapsed": 385,
     "status": "ok",
     "timestamp": 1610469674751,
     "user": {
      "displayName": "Shreenidhi Bharadwaj",
      "photoUrl": "",
      "userId": "11178425699106318599"
     },
     "user_tz": 480
    },
    "id": "i1sLP8AqZZ4j",
    "outputId": "1abeaa1a-a166-472d-b998-9cb630351c17"
   },
   "outputs": [
    {
     "data": {
      "text/plain": [
       "Date                              object\n",
       "Day                                int64\n",
       "Month                              int64\n",
       "Year                               int64\n",
       "Cases                              int64\n",
       "Deaths                             int64\n",
       "Country                           object\n",
       "Population                         int64\n",
       "Continent                         object\n",
       "CumulativeNumberPer100KCases     float64\n",
       "dtype: object"
      ]
     },
     "execution_count": 25,
     "metadata": {
      "tags": []
     },
     "output_type": "execute_result"
    }
   ],
   "source": [
    "covid19_dfA.dtypes"
   ]
  },
  {
   "cell_type": "code",
   "execution_count": 26,
   "metadata": {
    "colab": {
     "base_uri": "https://localhost:8080/"
    },
    "executionInfo": {
     "elapsed": 306,
     "status": "ok",
     "timestamp": 1610469675679,
     "user": {
      "displayName": "Shreenidhi Bharadwaj",
      "photoUrl": "",
      "userId": "11178425699106318599"
     },
     "user_tz": 480
    },
    "id": "Mi1nUPCYZZ4j",
    "outputId": "c311e975-2a29-4e88-cdaf-3a19754dcb4e"
   },
   "outputs": [
    {
     "data": {
      "text/plain": [
       "Date                             0\n",
       "Day                              0\n",
       "Month                            0\n",
       "Year                             0\n",
       "Cases                            0\n",
       "Deaths                           0\n",
       "Country                          0\n",
       "Population                       0\n",
       "Continent                        0\n",
       "CumulativeNumberPer100KCases     0\n",
       "dtype: int64"
      ]
     },
     "execution_count": 26,
     "metadata": {
      "tags": []
     },
     "output_type": "execute_result"
    }
   ],
   "source": [
    "covid19_dfA.isnull().sum()"
   ]
  },
  {
   "cell_type": "code",
   "execution_count": 27,
   "metadata": {
    "colab": {
     "base_uri": "https://localhost:8080/",
     "height": 204
    },
    "executionInfo": {
     "elapsed": 335,
     "status": "ok",
     "timestamp": 1610469678849,
     "user": {
      "displayName": "Shreenidhi Bharadwaj",
      "photoUrl": "",
      "userId": "11178425699106318599"
     },
     "user_tz": 480
    },
    "id": "mjQbEJOlZZ4j",
    "outputId": "a87a72a3-0253-41c1-9676-b7e69cb1d412"
   },
   "outputs": [
    {
     "data": {
      "text/html": [
       "<div>\n",
       "<style scoped>\n",
       "    .dataframe tbody tr th:only-of-type {\n",
       "        vertical-align: middle;\n",
       "    }\n",
       "\n",
       "    .dataframe tbody tr th {\n",
       "        vertical-align: top;\n",
       "    }\n",
       "\n",
       "    .dataframe thead th {\n",
       "        text-align: right;\n",
       "    }\n",
       "</style>\n",
       "<table border=\"1\" class=\"dataframe\">\n",
       "  <thead>\n",
       "    <tr style=\"text-align: right;\">\n",
       "      <th></th>\n",
       "      <th>Date</th>\n",
       "      <th>Day</th>\n",
       "      <th>Month</th>\n",
       "      <th>Year</th>\n",
       "      <th>Cases</th>\n",
       "      <th>Deaths</th>\n",
       "      <th>Country</th>\n",
       "      <th>Population</th>\n",
       "      <th>Continent</th>\n",
       "      <th>CumulativeNumberPer100KCases</th>\n",
       "    </tr>\n",
       "  </thead>\n",
       "  <tbody>\n",
       "    <tr>\n",
       "      <th>0</th>\n",
       "      <td>25/08/2020</td>\n",
       "      <td>25</td>\n",
       "      <td>8</td>\n",
       "      <td>2020</td>\n",
       "      <td>71</td>\n",
       "      <td>10</td>\n",
       "      <td>Afghanistan</td>\n",
       "      <td>38041757</td>\n",
       "      <td>Asia</td>\n",
       "      <td>2.670749</td>\n",
       "    </tr>\n",
       "    <tr>\n",
       "      <th>1</th>\n",
       "      <td>24/08/2020</td>\n",
       "      <td>24</td>\n",
       "      <td>8</td>\n",
       "      <td>2020</td>\n",
       "      <td>0</td>\n",
       "      <td>0</td>\n",
       "      <td>Afghanistan</td>\n",
       "      <td>38041757</td>\n",
       "      <td>Asia</td>\n",
       "      <td>2.484112</td>\n",
       "    </tr>\n",
       "    <tr>\n",
       "      <th>2</th>\n",
       "      <td>23/08/2020</td>\n",
       "      <td>23</td>\n",
       "      <td>8</td>\n",
       "      <td>2020</td>\n",
       "      <td>105</td>\n",
       "      <td>2</td>\n",
       "      <td>Afghanistan</td>\n",
       "      <td>38041757</td>\n",
       "      <td>Asia</td>\n",
       "      <td>2.484112</td>\n",
       "    </tr>\n",
       "    <tr>\n",
       "      <th>3</th>\n",
       "      <td>22/08/2020</td>\n",
       "      <td>22</td>\n",
       "      <td>8</td>\n",
       "      <td>2020</td>\n",
       "      <td>38</td>\n",
       "      <td>0</td>\n",
       "      <td>Afghanistan</td>\n",
       "      <td>38041757</td>\n",
       "      <td>Asia</td>\n",
       "      <td>2.310619</td>\n",
       "    </tr>\n",
       "    <tr>\n",
       "      <th>4</th>\n",
       "      <td>21/08/2020</td>\n",
       "      <td>21</td>\n",
       "      <td>8</td>\n",
       "      <td>2020</td>\n",
       "      <td>97</td>\n",
       "      <td>2</td>\n",
       "      <td>Afghanistan</td>\n",
       "      <td>38041757</td>\n",
       "      <td>Asia</td>\n",
       "      <td>2.415766</td>\n",
       "    </tr>\n",
       "  </tbody>\n",
       "</table>\n",
       "</div>"
      ],
      "text/plain": [
       "         Date  Day  Month  ...  Population  Continent  CumulativeNumberPer100KCases \n",
       "0  25/08/2020   25      8  ...    38041757       Asia                       2.670749\n",
       "1  24/08/2020   24      8  ...    38041757       Asia                       2.484112\n",
       "2  23/08/2020   23      8  ...    38041757       Asia                       2.484112\n",
       "3  22/08/2020   22      8  ...    38041757       Asia                       2.310619\n",
       "4  21/08/2020   21      8  ...    38041757       Asia                       2.415766\n",
       "\n",
       "[5 rows x 10 columns]"
      ]
     },
     "execution_count": 27,
     "metadata": {
      "tags": []
     },
     "output_type": "execute_result"
    }
   ],
   "source": [
    "covid19_dfA.head()"
   ]
  },
  {
   "cell_type": "code",
   "execution_count": 28,
   "metadata": {
    "colab": {
     "base_uri": "https://localhost:8080/"
    },
    "executionInfo": {
     "elapsed": 363,
     "status": "ok",
     "timestamp": 1610469679708,
     "user": {
      "displayName": "Shreenidhi Bharadwaj",
      "photoUrl": "",
      "userId": "11178425699106318599"
     },
     "user_tz": 480
    },
    "id": "IVqfZBgDZZ4k",
    "outputId": "60bf370b-fa49-47fe-ad2f-0ad94a9232fb"
   },
   "outputs": [
    {
     "data": {
      "text/plain": [
       "(38492, 10)"
      ]
     },
     "execution_count": 28,
     "metadata": {
      "tags": []
     },
     "output_type": "execute_result"
    }
   ],
   "source": [
    "covid19_dfA.shape"
   ]
  },
  {
   "cell_type": "code",
   "execution_count": 29,
   "metadata": {
    "colab": {
     "base_uri": "https://localhost:8080/"
    },
    "executionInfo": {
     "elapsed": 429,
     "status": "ok",
     "timestamp": 1610469680605,
     "user": {
      "displayName": "Shreenidhi Bharadwaj",
      "photoUrl": "",
      "userId": "11178425699106318599"
     },
     "user_tz": 480
    },
    "id": "Ri_h0Um7ZZ4k",
    "outputId": "397660ce-cfcc-4f66-fdbd-b04ca1460186"
   },
   "outputs": [
    {
     "data": {
      "text/plain": [
       "Date                              object\n",
       "Day                                int64\n",
       "Month                              int64\n",
       "Year                               int64\n",
       "Cases                              int64\n",
       "Deaths                             int64\n",
       "Country                           object\n",
       "Population                         int64\n",
       "Continent                         object\n",
       "CumulativeNumberPer100KCases     float64\n",
       "dtype: object"
      ]
     },
     "execution_count": 29,
     "metadata": {
      "tags": []
     },
     "output_type": "execute_result"
    }
   ],
   "source": [
    "covid19_dfA.dtypes"
   ]
  },
  {
   "cell_type": "markdown",
   "metadata": {
    "id": "zdb9lIFpZZ4k"
   },
   "source": [
    "### Write out file</br>\n",
    "> - covid19_dfA.to_excel()</br>\n",
    "> - covid19_dfA.to_csv()</br>"
   ]
  },
  {
   "cell_type": "markdown",
   "metadata": {
    "id": "MIzvBpS0ZZ4k"
   },
   "source": [
    "## Visualizing Data"
   ]
  },
  {
   "cell_type": "code",
   "execution_count": null,
   "metadata": {
    "id": "DPcQ75xIZZ4k",
    "outputId": "8b4e708e-c443-4ab7-ce69-04b7f65deee0"
   },
   "outputs": [
    {
     "data": {
      "image/png": "[encoded data removed]",
      "text/plain": [
       "<Figure size 1080x792 with 1 Axes>"
      ]
     },
     "metadata": {
      "tags": []
     },
     "output_type": "display_data"
    }
   ],
   "source": [
    "world_daily = covid19_dfA.set_index('Date')\n",
    "sns.set_color_codes(\"colorblind\")\n",
    "sns.set(rc={'figure.figsize':(15, 11)})\n",
    "world_daily['Cases'].plot(linewidth = 2.5)\n",
    "\n",
    "\n",
    "plt.title('Worldwide Cases Over Time', fontsize = 20)\n",
    "plt.xlabel('Date', fontsize = 16)\n",
    "plt.xticks(fontsize = 13)\n",
    "plt.ylabel('Cases', fontsize = 16)\n",
    "plt.yticks(fontsize = 13)\n",
    "\n",
    "plt.show()"
   ]
  },
  {
   "cell_type": "code",
   "execution_count": null,
   "metadata": {
    "id": "IbMIXDMNZZ4l",
    "outputId": "643c6c5e-303c-4bf1-df2b-c71f288df12e"
   },
   "outputs": [
    {
     "data": {
      "image/png": "[encoded data removed]",
      "text/plain": [
       "<Figure size 1080x792 with 1 Axes>"
      ]
     },
     "metadata": {
      "tags": []
     },
     "output_type": "display_data"
    }
   ],
   "source": [
    "sns.set(rc={'figure.figsize':(15,11)})\n",
    "world_daily['Deaths'].plot(linewidth = 2.5)\n",
    "\n",
    "\n",
    "plt.title('Worldwide Deaths Over Time', fontsize = 20)\n",
    "plt.xlabel('Number of Deaths by Date', fontsize = 16)\n",
    "plt.xticks(fontsize = 13)\n",
    "plt.ylabel('Number of Deaths', fontsize = 16)\n",
    "plt.yticks(fontsize = 13)\n",
    "\n",
    "plt.show()"
   ]
  },
  {
   "cell_type": "code",
   "execution_count": null,
   "metadata": {
    "id": "mGyMuz2fZZ4l",
    "outputId": "cffd05a8-4cd4-4058-e7a2-5f289ef488f0"
   },
   "outputs": [
    {
     "data": {
      "image/png": "[encoded data removed]",
      "text/plain": [
       "<Figure size 1080x792 with 1 Axes>"
      ]
     },
     "metadata": {
      "tags": []
     },
     "output_type": "display_data"
    }
   ],
   "source": [
    "UScovid19_df = covid19_dfA[covid19_dfA[\"Country\"] == \"United_States_of_America\"].reset_index()\n",
    "US_daily = UScovid19_df.set_index('Date')\n",
    "\n",
    "sns.set(rc={'figure.figsize':(15, 11)})\n",
    "US_daily['Cases'].plot(linewidth = 2.5)\n",
    "\n",
    "plt.title('US Cases Over Time', fontsize = 20)\n",
    "plt.xlabel('Case by Date', fontsize = 16)\n",
    "plt.xticks(fontsize = 13)\n",
    "plt.ylabel('Number of Cases', fontsize = 16)\n",
    "plt.yticks(fontsize = 13)\n",
    "\n",
    "plt.show()"
   ]
  },
  {
   "cell_type": "code",
   "execution_count": null,
   "metadata": {
    "id": "SdilnoyaZZ4l",
    "outputId": "e674cc0d-46f1-42ba-ccd0-24812c3a6ee0"
   },
   "outputs": [
    {
     "data": {
      "image/png": "[encoded data removed]",
      "text/plain": [
       "<Figure size 1080x792 with 1 Axes>"
      ]
     },
     "metadata": {
      "tags": []
     },
     "output_type": "display_data"
    }
   ],
   "source": [
    "UScovid19_df = covid19_dfA[covid19_dfA[\"Country\"] == \"United_States_of_America\"].reset_index()\n",
    "US_daily = UScovid19_df.set_index('Date')\n",
    "\n",
    "sns.set(rc={'figure.figsize':(15, 11)})\n",
    "US_daily['Deaths'].plot(linewidth = 2.5)\n",
    "\n",
    "plt.title('US Deaths Over Time', fontsize = 20)\n",
    "plt.xlabel('Deaths by Date', fontsize = 16)\n",
    "plt.xticks(fontsize = 13)\n",
    "plt.ylabel('Number of Deaths', fontsize = 16)\n",
    "plt.yticks(fontsize = 13)\n",
    "\n",
    "plt.show()"
   ]
  },
  {
   "cell_type": "markdown",
   "metadata": {
    "id": "a-g1dsLJeX0J"
   },
   "source": [
    "#### Data Scaling & Comparisons\n",
    "\n",
    "\n",
    "\n",
    "\n"
   ]
  },
  {
   "cell_type": "markdown",
   "metadata": {
    "id": "7bBhxaQXepaL"
   },
   "source": [
    "FINDINGS/ANALYSIS:\n",
    "\n"
   ]
  }
 ],
 "metadata": {
  "colab": {
   "name": "Assignment1-GettingStarted.ipynb",
   "provenance": []
  },
  "kernelspec": {
   "display_name": "Python 3",
   "language": "python",
   "name": "python3"
  },
  "language_info": {
   "codemirror_mode": {
    "name": "ipython",
    "version": 3
   },
   "file_extension": ".py",
   "mimetype": "text/x-python",
   "name": "python",
   "nbconvert_exporter": "python",
   "pygments_lexer": "ipython3",
   "version": "3.7.4"
  },
  "toc": {
   "base_numbering": 1,
   "nav_menu": {},
   "number_sections": false,
   "sideBar": true,
   "skip_h1_title": false,
   "title_cell": "Table of Contents",
   "title_sidebar": "Contents",
   "toc_cell": false,
   "toc_position": {},
   "toc_section_display": true,
   "toc_window_display": false
  }
 },
 "nbformat": 4,
 "nbformat_minor": 1
}
